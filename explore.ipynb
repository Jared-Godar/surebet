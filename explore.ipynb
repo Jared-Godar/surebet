{
 "cells": [
  {
   "cell_type": "markdown",
   "metadata": {},
   "source": [
    "# Surebets"
   ]
  },
  {
   "cell_type": "markdown",
   "metadata": {},
   "source": [
    "Situation where you can profit regardless of a match outcome based on different bookmakers providing different odds\n",
    "\n",
    "If (1/odds1) + (1/odds2) <1.0, you've got a sure bet\n",
    "\n",
    "\n",
    "| Bookie | Over     | Under     |\n",
    "|--------|----------|-----------|\n",
    "|   1    |   **2**  |   1.9     |\n",
    "|   2    |  1.8     |  **2.1**  |\n",
    "\n",
    "\n",
    "With $100 to bet. $51.21 on the over with bookie 1, $48.78 on the under with bookie 2\n",
    "\n",
    "**Scenario 1 - Over**\n",
    "You win on Bookmaker 1 but lose on Bookmaker 2\n",
    "`Profit 1= 51.21*2 — 51.21 — 48.78 = 2.43`\n",
    "\n",
    "**Scenario 2 - Under**\n",
    "You win on Bookmaker 2 but lose on Bookmaker 1\n",
    "`Profit 2 = 48.78*2.1 — 51.21 — 48.78= 2.44`"
   ]
  },
  {
   "cell_type": "code",
   "execution_count": 4,
   "metadata": {},
   "outputs": [
    {
     "ename": "ModuleNotFoundError",
     "evalue": "No module named 'selenium'",
     "output_type": "error",
     "traceback": [
      "\u001b[0;31m---------------------------------------------------------------------------\u001b[0m",
      "\u001b[0;31mModuleNotFoundError\u001b[0m                       Traceback (most recent call last)",
      "\u001b[0;32m/var/folders/9y/17ptyrds267724n2_7s7hx340000gn/T/ipykernel_18799/299482817.py\u001b[0m in \u001b[0;36m<module>\u001b[0;34m\u001b[0m\n\u001b[0;32m----> 1\u001b[0;31m \u001b[0;32mfrom\u001b[0m \u001b[0mselenium\u001b[0m \u001b[0;32mimport\u001b[0m \u001b[0mwebdriver\u001b[0m\u001b[0;34m\u001b[0m\u001b[0;34m\u001b[0m\u001b[0m\n\u001b[0m\u001b[1;32m      2\u001b[0m \u001b[0;32mimport\u001b[0m \u001b[0mpandas\u001b[0m \u001b[0;32mas\u001b[0m \u001b[0mpd\u001b[0m\u001b[0;34m\u001b[0m\u001b[0;34m\u001b[0m\u001b[0m\n\u001b[1;32m      3\u001b[0m \u001b[0;32mimport\u001b[0m \u001b[0mtime\u001b[0m\u001b[0;34m\u001b[0m\u001b[0;34m\u001b[0m\u001b[0m\n",
      "\u001b[0;31mModuleNotFoundError\u001b[0m: No module named 'selenium'"
     ]
    }
   ],
   "source": [
    "from selenium import webdriver\n",
    "import pandas as pd\n",
    "import time"
   ]
  },
  {
   "cell_type": "code",
   "execution_count": 1,
   "metadata": {},
   "outputs": [],
   "source": [
    "def find_surebet(odds1, odds2):\n",
    "    sum_odds = (1/odds1) + (1/odds2)\n",
    "    if sum_odds<1:\n",
    "        message = 'Surebet Found!'\n",
    "    else:\n",
    "        message = 'Keep scraping'\n",
    "    return message"
   ]
  },
  {
   "cell_type": "code",
   "execution_count": null,
   "metadata": {},
   "outputs": [],
   "source": []
  }
 ],
 "metadata": {
  "interpreter": {
   "hash": "38cca0c38332a56087b24af0bc80247f4fced29cb4f7f437d91dc159adec9c4e"
  },
  "kernelspec": {
   "display_name": "Python 3.8.12 ('base')",
   "language": "python",
   "name": "python3"
  },
  "language_info": {
   "codemirror_mode": {
    "name": "ipython",
    "version": 3
   },
   "file_extension": ".py",
   "mimetype": "text/x-python",
   "name": "python",
   "nbconvert_exporter": "python",
   "pygments_lexer": "ipython3",
   "version": "3.8.12"
  },
  "orig_nbformat": 4
 },
 "nbformat": 4,
 "nbformat_minor": 2
}
