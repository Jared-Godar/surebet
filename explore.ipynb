{
 "cells": [
  {
   "cell_type": "markdown",
   "metadata": {},
   "source": [
    "# Surebets"
   ]
  },
  {
   "cell_type": "markdown",
   "metadata": {},
   "source": [
    "Situation where you can profit regardless of a match outcome based on different bookmakers providing different odds\n",
    "\n",
    "If (1/odds1) + (1/odds2) <1.0, you've got a sure bet\n",
    "\n",
    "\n",
    "| Bookie | Over     | Under     |\n",
    "|--------|----------|-----------|\n",
    "|   1    |   **2**  |   1.9     |\n",
    "|   2    |  1.8     |  **2.1**  |\n",
    "\n",
    "\n",
    "With $100 to bet. $51.21 on the over with bookie 1, $48.78 on the under with bookie 2\n",
    "\n",
    "**Scenario 1 - Over**\n",
    "You win on Bookmaker 1 but lose on Bookmaker 2\n",
    "`Profit 1= 51.21*2 — 51.21 — 48.78 = 2.43`\n",
    "\n",
    "**Scenario 2 - Under**\n",
    "You win on Bookmaker 2 but lose on Bookmaker 1\n",
    "`Profit 2 = 48.78*2.1 — 51.21 — 48.78= 2.44`"
   ]
  },
  {
   "cell_type": "code",
   "execution_count": 3,
   "metadata": {},
   "outputs": [],
   "source": [
    "from selenium import webdriver\n",
    "import pandas as pd\n",
    "import time"
   ]
  },
  {
   "cell_type": "code",
   "execution_count": 1,
   "metadata": {},
   "outputs": [],
   "source": [
    "def find_surebet(odds1, odds2):\n",
    "    sum_odds = (1/odds1) + (1/odds2)\n",
    "    if sum_odds<1:\n",
    "        message = 'Surebet Found!'\n",
    "    else:\n",
    "        message = 'Keep scraping'\n",
    "    return message"
   ]
  },
  {
   "cell_type": "code",
   "execution_count": 12,
   "metadata": {},
   "outputs": [],
   "source": [
    "!xattr -d com.apple.quarantine /Users/jaredgodar/codeup-data-science/surebet/chromedriver\n"
   ]
  },
  {
   "cell_type": "code",
   "execution_count": 13,
   "metadata": {},
   "outputs": [
    {
     "name": "stderr",
     "output_type": "stream",
     "text": [
      "/var/folders/9y/17ptyrds267724n2_7s7hx340000gn/T/ipykernel_30941/1413878318.py:4: DeprecationWarning: executable_path has been deprecated, please pass in a Service object\n",
      "  driver = webdriver.Chrome(path)\n"
     ]
    }
   ],
   "source": [
    "#Writing our First Selenium Python Test\n",
    "web = 'https://sports.tipico.de/en/all/football/spain/la-liga' #you can choose any other league (update 1)\n",
    "path =  '/Users/jaredgodar/codeup-data-science/surebet/chromedriver'\n",
    "driver = webdriver.Chrome(path)\n",
    "driver.get(web)\n"
   ]
  },
  {
   "cell_type": "code",
   "execution_count": 14,
   "metadata": {},
   "outputs": [
    {
     "name": "stderr",
     "output_type": "stream",
     "text": [
      "/var/folders/9y/17ptyrds267724n2_7s7hx340000gn/T/ipykernel_30941/407926464.py:3: DeprecationWarning: find_element_by_xpath is deprecated. Please use find_element(by=By.XPATH, value=xpath) instead\n",
      "  accept = driver.find_element_by_xpath('//*[@id=\"_evidon-accept-button\"]')\n"
     ]
    },
    {
     "ename": "NoSuchElementException",
     "evalue": "Message: no such element: Unable to locate element: {\"method\":\"xpath\",\"selector\":\"//*[@id=\"_evidon-accept-button\"]\"}\n  (Session info: chrome=99.0.4844.51)\nStacktrace:\n0   chromedriver                        0x00000001047f3370 chromedriver + 4420464\n1   chromedriver                        0x000000010478a940 chromedriver + 3991872\n2   chromedriver                        0x00000001043ea548 chromedriver + 189768\n3   chromedriver                        0x0000000104418ef8 chromedriver + 380664\n4   chromedriver                        0x0000000104441bfc chromedriver + 547836\n5   chromedriver                        0x000000010440e248 chromedriver + 336456\n6   chromedriver                        0x00000001047b7548 chromedriver + 4175176\n7   chromedriver                        0x00000001047cd95c chromedriver + 4266332\n8   chromedriver                        0x00000001047d2660 chromedriver + 4286048\n9   chromedriver                        0x00000001047ce124 chromedriver + 4268324\n10  chromedriver                        0x00000001047ad53c chromedriver + 4134204\n11  chromedriver                        0x00000001047e5eb0 chromedriver + 4366000\n12  chromedriver                        0x00000001047e6014 chromedriver + 4366356\n13  chromedriver                        0x00000001047f9a6c chromedriver + 4446828\n14  libsystem_pthread.dylib             0x00000001c4239240 _pthread_start + 148\n15  libsystem_pthread.dylib             0x00000001c4234024 thread_start + 8\n",
     "output_type": "error",
     "traceback": [
      "\u001b[0;31m---------------------------------------------------------------------------\u001b[0m",
      "\u001b[0;31mNoSuchElementException\u001b[0m                    Traceback (most recent call last)",
      "\u001b[0;32m/var/folders/9y/17ptyrds267724n2_7s7hx340000gn/T/ipykernel_30941/407926464.py\u001b[0m in \u001b[0;36m<module>\u001b[0;34m\u001b[0m\n\u001b[1;32m      1\u001b[0m \u001b[0;31m#Make ChromeDriver click a button\u001b[0m\u001b[0;34m\u001b[0m\u001b[0;34m\u001b[0m\u001b[0;34m\u001b[0m\u001b[0m\n\u001b[1;32m      2\u001b[0m \u001b[0mtime\u001b[0m\u001b[0;34m.\u001b[0m\u001b[0msleep\u001b[0m\u001b[0;34m(\u001b[0m\u001b[0;36m5\u001b[0m\u001b[0;34m)\u001b[0m \u001b[0;31m#add implicit wait, if necessary\u001b[0m\u001b[0;34m\u001b[0m\u001b[0;34m\u001b[0m\u001b[0m\n\u001b[0;32m----> 3\u001b[0;31m \u001b[0maccept\u001b[0m \u001b[0;34m=\u001b[0m \u001b[0mdriver\u001b[0m\u001b[0;34m.\u001b[0m\u001b[0mfind_element_by_xpath\u001b[0m\u001b[0;34m(\u001b[0m\u001b[0;34m'//*[@id=\"_evidon-accept-button\"]'\u001b[0m\u001b[0;34m)\u001b[0m\u001b[0;34m\u001b[0m\u001b[0;34m\u001b[0m\u001b[0m\n\u001b[0m\u001b[1;32m      4\u001b[0m \u001b[0maccept\u001b[0m\u001b[0;34m.\u001b[0m\u001b[0mclick\u001b[0m\u001b[0;34m(\u001b[0m\u001b[0;34m)\u001b[0m\u001b[0;34m\u001b[0m\u001b[0;34m\u001b[0m\u001b[0m\n",
      "\u001b[0;32m/opt/homebrew/anaconda3/lib/python3.8/site-packages/selenium/webdriver/remote/webdriver.py\u001b[0m in \u001b[0;36mfind_element_by_xpath\u001b[0;34m(self, xpath)\u001b[0m\n\u001b[1;32m    519\u001b[0m             \u001b[0mstacklevel\u001b[0m\u001b[0;34m=\u001b[0m\u001b[0;36m2\u001b[0m\u001b[0;34m,\u001b[0m\u001b[0;34m\u001b[0m\u001b[0;34m\u001b[0m\u001b[0m\n\u001b[1;32m    520\u001b[0m         )\n\u001b[0;32m--> 521\u001b[0;31m         \u001b[0;32mreturn\u001b[0m \u001b[0mself\u001b[0m\u001b[0;34m.\u001b[0m\u001b[0mfind_element\u001b[0m\u001b[0;34m(\u001b[0m\u001b[0mby\u001b[0m\u001b[0;34m=\u001b[0m\u001b[0mBy\u001b[0m\u001b[0;34m.\u001b[0m\u001b[0mXPATH\u001b[0m\u001b[0;34m,\u001b[0m \u001b[0mvalue\u001b[0m\u001b[0;34m=\u001b[0m\u001b[0mxpath\u001b[0m\u001b[0;34m)\u001b[0m\u001b[0;34m\u001b[0m\u001b[0;34m\u001b[0m\u001b[0m\n\u001b[0m\u001b[1;32m    522\u001b[0m \u001b[0;34m\u001b[0m\u001b[0m\n\u001b[1;32m    523\u001b[0m     \u001b[0;32mdef\u001b[0m \u001b[0mfind_elements_by_xpath\u001b[0m\u001b[0;34m(\u001b[0m\u001b[0mself\u001b[0m\u001b[0;34m,\u001b[0m \u001b[0mxpath\u001b[0m\u001b[0;34m)\u001b[0m \u001b[0;34m->\u001b[0m \u001b[0mList\u001b[0m\u001b[0;34m[\u001b[0m\u001b[0mWebElement\u001b[0m\u001b[0;34m]\u001b[0m\u001b[0;34m:\u001b[0m\u001b[0;34m\u001b[0m\u001b[0;34m\u001b[0m\u001b[0m\n",
      "\u001b[0;32m/opt/homebrew/anaconda3/lib/python3.8/site-packages/selenium/webdriver/remote/webdriver.py\u001b[0m in \u001b[0;36mfind_element\u001b[0;34m(self, by, value)\u001b[0m\n\u001b[1;32m   1246\u001b[0m             \u001b[0mvalue\u001b[0m \u001b[0;34m=\u001b[0m \u001b[0;34m'[name=\"%s\"]'\u001b[0m \u001b[0;34m%\u001b[0m \u001b[0mvalue\u001b[0m\u001b[0;34m\u001b[0m\u001b[0;34m\u001b[0m\u001b[0m\n\u001b[1;32m   1247\u001b[0m \u001b[0;34m\u001b[0m\u001b[0m\n\u001b[0;32m-> 1248\u001b[0;31m         return self.execute(Command.FIND_ELEMENT, {\n\u001b[0m\u001b[1;32m   1249\u001b[0m             \u001b[0;34m'using'\u001b[0m\u001b[0;34m:\u001b[0m \u001b[0mby\u001b[0m\u001b[0;34m,\u001b[0m\u001b[0;34m\u001b[0m\u001b[0;34m\u001b[0m\u001b[0m\n\u001b[1;32m   1250\u001b[0m             'value': value})['value']\n",
      "\u001b[0;32m/opt/homebrew/anaconda3/lib/python3.8/site-packages/selenium/webdriver/remote/webdriver.py\u001b[0m in \u001b[0;36mexecute\u001b[0;34m(self, driver_command, params)\u001b[0m\n\u001b[1;32m    423\u001b[0m         \u001b[0mresponse\u001b[0m \u001b[0;34m=\u001b[0m \u001b[0mself\u001b[0m\u001b[0;34m.\u001b[0m\u001b[0mcommand_executor\u001b[0m\u001b[0;34m.\u001b[0m\u001b[0mexecute\u001b[0m\u001b[0;34m(\u001b[0m\u001b[0mdriver_command\u001b[0m\u001b[0;34m,\u001b[0m \u001b[0mparams\u001b[0m\u001b[0;34m)\u001b[0m\u001b[0;34m\u001b[0m\u001b[0;34m\u001b[0m\u001b[0m\n\u001b[1;32m    424\u001b[0m         \u001b[0;32mif\u001b[0m \u001b[0mresponse\u001b[0m\u001b[0;34m:\u001b[0m\u001b[0;34m\u001b[0m\u001b[0;34m\u001b[0m\u001b[0m\n\u001b[0;32m--> 425\u001b[0;31m             \u001b[0mself\u001b[0m\u001b[0;34m.\u001b[0m\u001b[0merror_handler\u001b[0m\u001b[0;34m.\u001b[0m\u001b[0mcheck_response\u001b[0m\u001b[0;34m(\u001b[0m\u001b[0mresponse\u001b[0m\u001b[0;34m)\u001b[0m\u001b[0;34m\u001b[0m\u001b[0;34m\u001b[0m\u001b[0m\n\u001b[0m\u001b[1;32m    426\u001b[0m             response['value'] = self._unwrap_value(\n\u001b[1;32m    427\u001b[0m                 response.get('value', None))\n",
      "\u001b[0;32m/opt/homebrew/anaconda3/lib/python3.8/site-packages/selenium/webdriver/remote/errorhandler.py\u001b[0m in \u001b[0;36mcheck_response\u001b[0;34m(self, response)\u001b[0m\n\u001b[1;32m    245\u001b[0m                 \u001b[0malert_text\u001b[0m \u001b[0;34m=\u001b[0m \u001b[0mvalue\u001b[0m\u001b[0;34m[\u001b[0m\u001b[0;34m'alert'\u001b[0m\u001b[0;34m]\u001b[0m\u001b[0;34m.\u001b[0m\u001b[0mget\u001b[0m\u001b[0;34m(\u001b[0m\u001b[0;34m'text'\u001b[0m\u001b[0;34m)\u001b[0m\u001b[0;34m\u001b[0m\u001b[0;34m\u001b[0m\u001b[0m\n\u001b[1;32m    246\u001b[0m             \u001b[0;32mraise\u001b[0m \u001b[0mexception_class\u001b[0m\u001b[0;34m(\u001b[0m\u001b[0mmessage\u001b[0m\u001b[0;34m,\u001b[0m \u001b[0mscreen\u001b[0m\u001b[0;34m,\u001b[0m \u001b[0mstacktrace\u001b[0m\u001b[0;34m,\u001b[0m \u001b[0malert_text\u001b[0m\u001b[0;34m)\u001b[0m  \u001b[0;31m# type: ignore[call-arg]  # mypy is not smart enough here\u001b[0m\u001b[0;34m\u001b[0m\u001b[0;34m\u001b[0m\u001b[0m\n\u001b[0;32m--> 247\u001b[0;31m         \u001b[0;32mraise\u001b[0m \u001b[0mexception_class\u001b[0m\u001b[0;34m(\u001b[0m\u001b[0mmessage\u001b[0m\u001b[0;34m,\u001b[0m \u001b[0mscreen\u001b[0m\u001b[0;34m,\u001b[0m \u001b[0mstacktrace\u001b[0m\u001b[0;34m)\u001b[0m\u001b[0;34m\u001b[0m\u001b[0;34m\u001b[0m\u001b[0m\n\u001b[0m\u001b[1;32m    248\u001b[0m \u001b[0;34m\u001b[0m\u001b[0m\n\u001b[1;32m    249\u001b[0m     \u001b[0;32mdef\u001b[0m \u001b[0m_value_or_default\u001b[0m\u001b[0;34m(\u001b[0m\u001b[0mself\u001b[0m\u001b[0;34m,\u001b[0m \u001b[0mobj\u001b[0m\u001b[0;34m:\u001b[0m \u001b[0mMapping\u001b[0m\u001b[0;34m[\u001b[0m\u001b[0m_KT\u001b[0m\u001b[0;34m,\u001b[0m \u001b[0m_VT\u001b[0m\u001b[0;34m]\u001b[0m\u001b[0;34m,\u001b[0m \u001b[0mkey\u001b[0m\u001b[0;34m:\u001b[0m \u001b[0m_KT\u001b[0m\u001b[0;34m,\u001b[0m \u001b[0mdefault\u001b[0m\u001b[0;34m:\u001b[0m \u001b[0m_VT\u001b[0m\u001b[0;34m)\u001b[0m \u001b[0;34m->\u001b[0m \u001b[0m_VT\u001b[0m\u001b[0;34m:\u001b[0m\u001b[0;34m\u001b[0m\u001b[0;34m\u001b[0m\u001b[0m\n",
      "\u001b[0;31mNoSuchElementException\u001b[0m: Message: no such element: Unable to locate element: {\"method\":\"xpath\",\"selector\":\"//*[@id=\"_evidon-accept-button\"]\"}\n  (Session info: chrome=99.0.4844.51)\nStacktrace:\n0   chromedriver                        0x00000001047f3370 chromedriver + 4420464\n1   chromedriver                        0x000000010478a940 chromedriver + 3991872\n2   chromedriver                        0x00000001043ea548 chromedriver + 189768\n3   chromedriver                        0x0000000104418ef8 chromedriver + 380664\n4   chromedriver                        0x0000000104441bfc chromedriver + 547836\n5   chromedriver                        0x000000010440e248 chromedriver + 336456\n6   chromedriver                        0x00000001047b7548 chromedriver + 4175176\n7   chromedriver                        0x00000001047cd95c chromedriver + 4266332\n8   chromedriver                        0x00000001047d2660 chromedriver + 4286048\n9   chromedriver                        0x00000001047ce124 chromedriver + 4268324\n10  chromedriver                        0x00000001047ad53c chromedriver + 4134204\n11  chromedriver                        0x00000001047e5eb0 chromedriver + 4366000\n12  chromedriver                        0x00000001047e6014 chromedriver + 4366356\n13  chromedriver                        0x00000001047f9a6c chromedriver + 4446828\n14  libsystem_pthread.dylib             0x00000001c4239240 _pthread_start + 148\n15  libsystem_pthread.dylib             0x00000001c4234024 thread_start + 8\n"
     ]
    }
   ],
   "source": [
    "#Make ChromeDriver click a button\n",
    "time.sleep(5) #add implicit wait, if necessary\n",
    "accept = driver.find_element_by_xpath('//*[@id=\"_evidon-accept-button\"]')\n",
    "accept.click()"
   ]
  },
  {
   "cell_type": "code",
   "execution_count": 15,
   "metadata": {},
   "outputs": [],
   "source": [
    "#Initialize  storage\n",
    "teams = []\n",
    "x12 = [] #3-way\n",
    "odds_events = []"
   ]
  },
  {
   "cell_type": "code",
   "execution_count": 16,
   "metadata": {},
   "outputs": [
    {
     "name": "stderr",
     "output_type": "stream",
     "text": [
      "/var/folders/9y/17ptyrds267724n2_7s7hx340000gn/T/ipykernel_30941/2537215173.py:2: DeprecationWarning: find_element_by_xpath is deprecated. Please use find_element(by=By.XPATH, value=xpath) instead\n",
      "  box = driver.find_element_by_xpath('//div[contains(@testid, \"Program_SELECTION\")]') #update 3\n",
      "/opt/homebrew/anaconda3/lib/python3.8/site-packages/selenium/webdriver/remote/webelement.py:464: UserWarning: find_elements_by_class_name is deprecated. Please use find_elements(by=By.CLASS_NAME, value=name) instead\n",
      "  warnings.warn(\"find_elements_by_class_name is deprecated. Please use find_elements(by=By.CLASS_NAME, value=name) instead\")\n"
     ]
    }
   ],
   "source": [
    "#select only upcoming matches box\n",
    "box = driver.find_element_by_xpath('//div[contains(@testid, \"Program_SELECTION\")]') #update 3\n",
    "#Looking for 'sports titles'\n",
    "sport_title = box.find_elements_by_class_name('SportTitle-styles-sport')"
   ]
  },
  {
   "cell_type": "code",
   "execution_count": 17,
   "metadata": {},
   "outputs": [
    {
     "name": "stderr",
     "output_type": "stream",
     "text": [
      "/opt/homebrew/anaconda3/lib/python3.8/site-packages/selenium/webdriver/remote/webelement.py:393: UserWarning: find_element_by_xpath is deprecated. Please use find_element(by=By.XPATH, value=xpath) instead\n",
      "  warnings.warn(\"find_element_by_xpath is deprecated. Please use find_element(by=By.XPATH, value=xpath) instead\")\n",
      "/opt/homebrew/anaconda3/lib/python3.8/site-packages/selenium/webdriver/remote/webelement.py:426: UserWarning: find_elements_by_xpath is deprecated. Please use find_elements(by=By.XPATH, value=xpath) instead\n",
      "  warnings.warn(\"find_elements_by_xpath is deprecated. Please use find_elements(by=By.XPATH, value=xpath) instead\")\n"
     ]
    },
    {
     "name": "stdout",
     "output_type": "stream",
     "text": [
      "                               Teams               1x2\n",
      "0        Real Betis\\nAthletic Bilbao  2.40\\n3.00\\n3.00\n",
      "1           Real Sociedad\\nCD Alaves  1.53\\n3.80\\n7.00\n",
      "2           FC Barcelona\\nCA Osasuna  1.32\\n5.30\\n8.50\n",
      "3          RCD Mallorca\\nReal Madrid  6.00\\n4.30\\n1.52\n",
      "4         Athletic Bilbao\\nCF Getafe  1.70\\n3.50\\n5.50\n",
      "5              CD Alaves\\nGranada CF  2.10\\n3.30\\n3.60\n",
      "6              Elche CF\\nCF Valencia  3.00\\n3.20\\n2.40\n",
      "7             CA Osasuna\\nUD Levante  2.00\\n3.40\\n3.70\n",
      "8    Rayo Vallecano\\nAtletico Madrid  3.70\\n3.40\\n2.00\n",
      "9   Espanyol Barcelona\\nRCD Mallorca  2.20\\n3.30\\n3.30\n",
      "10           Cadiz CF\\nVillarreal CF  5.00\\n3.70\\n1.70\n",
      "11      RC Celta de Vigo\\nReal Betis  2.40\\n3.30\\n2.90\n",
      "12         Sevilla FC\\nReal Sociedad  1.85\\n3.50\\n4.30\n",
      "13         Real Madrid\\nFC Barcelona  1.95\\n3.70\\n3.60\n"
     ]
    }
   ],
   "source": [
    "for sport in sport_title:\n",
    "    # selecting only football\n",
    "    if sport.text == 'Football':\n",
    "        parent = sport.find_element_by_xpath('./..') #immediate parent node\n",
    "        grandparent = parent.find_element_by_xpath('./..') #grandparent node = the whole 'football' section\n",
    "        #Looking for single row events\n",
    "        single_row_events = grandparent.find_elements_by_class_name('EventRow-styles-event-row')\n",
    "        #Getting data\n",
    "        for match in single_row_events:\n",
    "            #'odd_events'\n",
    "            odds_event = match.find_elements_by_class_name('EventOddGroup-styles-odd-groups')\n",
    "            odds_events.append(odds_event)\n",
    "            # Team names\n",
    "            for team in match.find_elements_by_class_name('EventTeams-styles-titles'):\n",
    "                teams.append(team.text)\n",
    "        #Getting data: the odds        \n",
    "        for odds_event in odds_events:\n",
    "            for n, box in enumerate(odds_event):\n",
    "                rows = box.find_elements_by_xpath('.//*')\n",
    "                if n == 0:\n",
    "                    x12.append(rows[0].text)\n",
    "\n",
    "driver.quit()\n",
    "#Storing lists within dictionary\n",
    "dict_gambling = {'Teams': teams, '1x2': x12}\n",
    "#Presenting data in dataframe\n",
    "df_gambling = pd.DataFrame.from_dict(dict_gambling)\n",
    "print(df_gambling)"
   ]
  },
  {
   "cell_type": "code",
   "execution_count": 18,
   "metadata": {},
   "outputs": [
    {
     "data": {
      "text/html": [
       "<div>\n",
       "<style scoped>\n",
       "    .dataframe tbody tr th:only-of-type {\n",
       "        vertical-align: middle;\n",
       "    }\n",
       "\n",
       "    .dataframe tbody tr th {\n",
       "        vertical-align: top;\n",
       "    }\n",
       "\n",
       "    .dataframe thead th {\n",
       "        text-align: right;\n",
       "    }\n",
       "</style>\n",
       "<table border=\"1\" class=\"dataframe\">\n",
       "  <thead>\n",
       "    <tr style=\"text-align: right;\">\n",
       "      <th></th>\n",
       "      <th>Teams</th>\n",
       "      <th>1x2</th>\n",
       "    </tr>\n",
       "  </thead>\n",
       "  <tbody>\n",
       "    <tr>\n",
       "      <th>0</th>\n",
       "      <td>Real Betis\\nAthletic Bilbao</td>\n",
       "      <td>2.40\\n3.00\\n3.00</td>\n",
       "    </tr>\n",
       "    <tr>\n",
       "      <th>1</th>\n",
       "      <td>Real Sociedad\\nCD Alaves</td>\n",
       "      <td>1.53\\n3.80\\n7.00</td>\n",
       "    </tr>\n",
       "    <tr>\n",
       "      <th>2</th>\n",
       "      <td>FC Barcelona\\nCA Osasuna</td>\n",
       "      <td>1.32\\n5.30\\n8.50</td>\n",
       "    </tr>\n",
       "    <tr>\n",
       "      <th>3</th>\n",
       "      <td>RCD Mallorca\\nReal Madrid</td>\n",
       "      <td>6.00\\n4.30\\n1.52</td>\n",
       "    </tr>\n",
       "    <tr>\n",
       "      <th>4</th>\n",
       "      <td>Athletic Bilbao\\nCF Getafe</td>\n",
       "      <td>1.70\\n3.50\\n5.50</td>\n",
       "    </tr>\n",
       "    <tr>\n",
       "      <th>5</th>\n",
       "      <td>CD Alaves\\nGranada CF</td>\n",
       "      <td>2.10\\n3.30\\n3.60</td>\n",
       "    </tr>\n",
       "    <tr>\n",
       "      <th>6</th>\n",
       "      <td>Elche CF\\nCF Valencia</td>\n",
       "      <td>3.00\\n3.20\\n2.40</td>\n",
       "    </tr>\n",
       "    <tr>\n",
       "      <th>7</th>\n",
       "      <td>CA Osasuna\\nUD Levante</td>\n",
       "      <td>2.00\\n3.40\\n3.70</td>\n",
       "    </tr>\n",
       "    <tr>\n",
       "      <th>8</th>\n",
       "      <td>Rayo Vallecano\\nAtletico Madrid</td>\n",
       "      <td>3.70\\n3.40\\n2.00</td>\n",
       "    </tr>\n",
       "    <tr>\n",
       "      <th>9</th>\n",
       "      <td>Espanyol Barcelona\\nRCD Mallorca</td>\n",
       "      <td>2.20\\n3.30\\n3.30</td>\n",
       "    </tr>\n",
       "    <tr>\n",
       "      <th>10</th>\n",
       "      <td>Cadiz CF\\nVillarreal CF</td>\n",
       "      <td>5.00\\n3.70\\n1.70</td>\n",
       "    </tr>\n",
       "    <tr>\n",
       "      <th>11</th>\n",
       "      <td>RC Celta de Vigo\\nReal Betis</td>\n",
       "      <td>2.40\\n3.30\\n2.90</td>\n",
       "    </tr>\n",
       "    <tr>\n",
       "      <th>12</th>\n",
       "      <td>Sevilla FC\\nReal Sociedad</td>\n",
       "      <td>1.85\\n3.50\\n4.30</td>\n",
       "    </tr>\n",
       "    <tr>\n",
       "      <th>13</th>\n",
       "      <td>Real Madrid\\nFC Barcelona</td>\n",
       "      <td>1.95\\n3.70\\n3.60</td>\n",
       "    </tr>\n",
       "  </tbody>\n",
       "</table>\n",
       "</div>"
      ],
      "text/plain": [
       "                               Teams               1x2\n",
       "0        Real Betis\\nAthletic Bilbao  2.40\\n3.00\\n3.00\n",
       "1           Real Sociedad\\nCD Alaves  1.53\\n3.80\\n7.00\n",
       "2           FC Barcelona\\nCA Osasuna  1.32\\n5.30\\n8.50\n",
       "3          RCD Mallorca\\nReal Madrid  6.00\\n4.30\\n1.52\n",
       "4         Athletic Bilbao\\nCF Getafe  1.70\\n3.50\\n5.50\n",
       "5              CD Alaves\\nGranada CF  2.10\\n3.30\\n3.60\n",
       "6              Elche CF\\nCF Valencia  3.00\\n3.20\\n2.40\n",
       "7             CA Osasuna\\nUD Levante  2.00\\n3.40\\n3.70\n",
       "8    Rayo Vallecano\\nAtletico Madrid  3.70\\n3.40\\n2.00\n",
       "9   Espanyol Barcelona\\nRCD Mallorca  2.20\\n3.30\\n3.30\n",
       "10           Cadiz CF\\nVillarreal CF  5.00\\n3.70\\n1.70\n",
       "11      RC Celta de Vigo\\nReal Betis  2.40\\n3.30\\n2.90\n",
       "12         Sevilla FC\\nReal Sociedad  1.85\\n3.50\\n4.30\n",
       "13         Real Madrid\\nFC Barcelona  1.95\\n3.70\\n3.60"
      ]
     },
     "execution_count": 18,
     "metadata": {},
     "output_type": "execute_result"
    }
   ],
   "source": [
    "df_gambling"
   ]
  },
  {
   "cell_type": "code",
   "execution_count": null,
   "metadata": {},
   "outputs": [],
   "source": []
  }
 ],
 "metadata": {
  "interpreter": {
   "hash": "38cca0c38332a56087b24af0bc80247f4fced29cb4f7f437d91dc159adec9c4e"
  },
  "kernelspec": {
   "display_name": "Python 3.8.12 ('base')",
   "language": "python",
   "name": "python3"
  },
  "language_info": {
   "codemirror_mode": {
    "name": "ipython",
    "version": 3
   },
   "file_extension": ".py",
   "mimetype": "text/x-python",
   "name": "python",
   "nbconvert_exporter": "python",
   "pygments_lexer": "ipython3",
   "version": "3.8.12"
  },
  "orig_nbformat": 4
 },
 "nbformat": 4,
 "nbformat_minor": 2
}
